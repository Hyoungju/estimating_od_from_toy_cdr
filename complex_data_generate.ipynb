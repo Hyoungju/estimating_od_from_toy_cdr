{
 "cells": [
  {
   "cell_type": "code",
   "execution_count": 1,
   "metadata": {},
   "outputs": [],
   "source": [
    "import numpy as np"
   ]
  },
  {
   "cell_type": "code",
   "execution_count": 2,
   "metadata": {},
   "outputs": [],
   "source": [
    "def generate_node(num_node, node_length = 1):\n",
    "    # assume map is grid and distance between adjacent node is 1\n",
    "    num_side = int(np.sqrt(num_node))\n",
    "    nodes = np.zeros((num_node, 2))\n",
    "    for i in range(num_side):\n",
    "        for j in range(num_side):\n",
    "            index = i + j * num_side\n",
    "            nodes[index, 0] = i * node_length + 1\n",
    "            nodes[index, 1] = j * node_length + 1\n",
    "    return nodes"
   ]
  },
  {
   "cell_type": "code",
   "execution_count": 3,
   "metadata": {},
   "outputs": [],
   "source": [
    "def generate_stay(num_stay, num_node):\n",
    "    # generate stay location not to be adjacent to each other\n",
    "    adjacent = adjacent_node(num_node)\n",
    "    result = np.zeros((num_stay, 1))\n",
    "    choice_set = [x for x in range(num_node)]\n",
    "    for i in range(num_stay):\n",
    "        if i == 0:\n",
    "            result[i, 0] = np.random.choice(choice_set, 1)\n",
    "        else:\n",
    "            choice_set = list(set(choice_set) - set(adjacent[int(result[i - 1, 0])]))\n",
    "            result[i, 0] = np.random.choice(choice_set, 1)\n",
    "    return result\n",
    "            "
   ]
  },
  {
   "cell_type": "code",
   "execution_count": 4,
   "metadata": {},
   "outputs": [],
   "source": [
    "def adjacent_node(num_node):\n",
    "    # find adjacent node which can be approached within 1 time step ( assume everyone velocity is constant)\n",
    "    nodes = generate_node(num_node)\n",
    "    threshold = np.sqrt(3)\n",
    "    result = [];\n",
    "    for i in range(num_node):\n",
    "        distance = np.zeros((num_node, 1))\n",
    "        for j in range(num_node):\n",
    "            distance[j, 0] = np.sqrt((nodes[i, 0] - nodes[j, 0])**2 + (nodes[i, 1] - nodes[j, 1])**2)\n",
    "        index = np.where(distance <= threshold)[0]\n",
    "        result.append(index)\n",
    "    return result"
   ]
  },
  {
   "cell_type": "code",
   "execution_count": 5,
   "metadata": {},
   "outputs": [],
   "source": [
    "def generate_route(origin, destination, num_node):\n",
    "    # given origin and destination generate route according to the distance to destination\n",
    "    origin = int(origin)\n",
    "    destination = int(destination)\n",
    "    nodes = generate_node(num_node)\n",
    "    adjacent = adjacent_node(num_node)\n",
    "    route = []\n",
    "    current = origin\n",
    "    route.append(current)\n",
    "    while current != destination:\n",
    "        if len(route) == 1:\n",
    "            possible_set = list(adjacent[current])\n",
    "        else:\n",
    "            possible_set = list(adjacent[current])\n",
    "            possible_set = list(set(possible_set) - set(route[-2:]))\n",
    "        \n",
    "        probability = []\n",
    "        for i in range(len(possible_set)):\n",
    "            d = np.sqrt((nodes[possible_set[i], 0] - nodes[destination, 0])**2 + (nodes[possible_set[i], 1] - nodes[destination, 1])**2)\n",
    "            probability.append(np.exp(- d **2))\n",
    "        probability = probability/sum(probability)\n",
    "        next_step = int(np.random.choice(possible_set, 1, p = probability))\n",
    "        route.append(next_step)\n",
    "        current = next_step\n",
    "    return route\n",
    "            "
   ]
  },
  {
   "cell_type": "code",
   "execution_count": 6,
   "metadata": {},
   "outputs": [],
   "source": [
    "def generate_trajectory(time_length, num_node, num_stay):\n",
    "    #generate the trajectory from the given number of stay\n",
    "    nodes = generate_node(num_node)\n",
    "    adjacent = adjacent_node(num_node)\n",
    "    stays = generate_stay(num_stay, num_node)\n",
    "    \n",
    "    trajectory = np.zeros(time_length)\n",
    "    total_route = []\n",
    "    route_time = 0\n",
    "    for i in range(num_stay):\n",
    "        if i == num_stay - 1:\n",
    "            route = generate_route(stays[i, 0], stays[0, 0], num_node)\n",
    "        else:\n",
    "            route = generate_route(stays[i, 0], stays[i + 1, 0], num_node)\n",
    "        route_time = route_time + len(route)\n",
    "        total_route.append(route)\n",
    "    left_time = time_length - route_time\n",
    "    \n",
    "    stay_time = np.zeros(num_stay + 1)\n",
    "    stay_time[0] = int(np.floor(left_time * 0.4))\n",
    "    stay_time[1] = int(np.floor(left_time * 0.4))\n",
    "    left_time = left_time - stay_time[0] - stay_time[1]\n",
    "    probability = np.random.uniform(low = num_stay/(left_time - 1), high = 1, size = num_stay - 1)\n",
    "    probability = probability / np.sum(probability)\n",
    "    \n",
    "    for i in range(2, num_stay + 1):\n",
    "        stay_time[i] = int(np.floor(left_time * probability[i - 2]))\n",
    "    remain_time = left_time - np.sum(stay_time[2:])\n",
    "    stay_time[0] = stay_time[0] + remain_time\n",
    "    \n",
    "    index = 0\n",
    "    for i in range(num_stay):\n",
    "        trajectory[index : int(stay_time[i]) + index] = stays[i, 0] * np.ones(int(stay_time[i]))\n",
    "        index = index + int(stay_time[i])\n",
    "        route = total_route[i]\n",
    "        trajectory[index : index + len(route)] = route\n",
    "        index = index + len(route)\n",
    "    trajectory[index : int(stay_time[i + 1]) + index] = stays[0, 0] * np.ones(int(stay_time[i + 1]) )\n",
    "    return trajectory, stays, stay_time"
   ]
  },
  {
   "cell_type": "code",
   "execution_count": 7,
   "metadata": {},
   "outputs": [],
   "source": [
    "def generate_observation_probability(num_node, population):\n",
    "    # generate observation probability (relationship between observed data and actual data)\n",
    "    # row is the actual state, column is the observed data\n",
    "    nodes = generate_node(num_node)\n",
    "    result = np.zeros((num_node, num_node))\n",
    "    coeff_min = 1\n",
    "    coeff_max = 5\n",
    "    max_population = np.max(population)\n",
    "    min_population = np.min(population)\n",
    "    population = (population - min_population) / (max_population - min_population)\n",
    "    \n",
    "    for i in range(num_node):\n",
    "        for j in range(num_node):\n",
    "            distance = np.sqrt((nodes[i, 0] - nodes[j, 0])**2 + (nodes[i, 1] - nodes[j, 1])**2)\n",
    "            coeff = - (coeff_max - coeff_min) * population[i] + coeff_max\n",
    "            result[i, j] = np.exp(- coeff * distance ** 2)\n",
    "        result[i, :] = result[i, :]/ np.sum(result[i, :])\n",
    "    return result"
   ]
  },
  {
   "cell_type": "code",
   "execution_count": 8,
   "metadata": {},
   "outputs": [],
   "source": [
    "def generate_observed(num_node, trajectory, population):\n",
    "    #generate observed data\n",
    "    choice_set = [x for x in range(num_node)]\n",
    "    \n",
    "    result = np.zeros(len(trajectory))\n",
    "    for i in range(len(trajectory)):\n",
    "        probability = generate_observation_probability(num_node, population[:, i])\n",
    "        choice_prob = probability[int(trajectory[i]), :]\n",
    "        result[i] =  np.random.choice(choice_set, 1, p = choice_prob)\n",
    "    return result"
   ]
  },
  {
   "cell_type": "code",
   "execution_count": 9,
   "metadata": {},
   "outputs": [],
   "source": [
    "def generate_population(num_node, time_length):\n",
    "    #generate population data for observation probability\n",
    "    result = np.random.randint(1, 100, (num_node, time_length))\n",
    "    \n",
    "    return result"
   ]
  },
  {
   "cell_type": "code",
   "execution_count": 10,
   "metadata": {},
   "outputs": [],
   "source": [
    "num_node = 64\n",
    "num_stay = 5\n",
    "time_length = 100\n",
    "num_people = 50"
   ]
  },
  {
   "cell_type": "code",
   "execution_count": 11,
   "metadata": {},
   "outputs": [],
   "source": [
    "population = generate_population(num_node, time_length)\n",
    "stay_times = []\n",
    "for i in range(num_people):\n",
    "    trajectory, stay, stay_time = generate_trajectory(time_length, num_node, num_stay)\n",
    "    observation = generate_observed(num_node, trajectory, population)\n",
    "    stay_times.append(stay_time)\n",
    "    if i == 0:\n",
    "        trajectories = trajectory\n",
    "        observations = observation\n",
    "        stays = stay\n",
    "    else:\n",
    "        trajectories = np.vstack((trajectories, trajectory))\n",
    "        observations = np.vstack((observations, observation))\n",
    "        stays = np.hstack((stays, stay))"
   ]
  },
  {
   "cell_type": "code",
   "execution_count": 17,
   "metadata": {},
   "outputs": [],
   "source": [
    "num_people = 500\n",
    "for i in range(num_people):\n",
    "    trajectory, stay, stay_time = generate_trajectory(time_length, num_node, num_stay)\n",
    "    observation = generate_observed(num_node, trajectory, population)\n",
    "    if i == 0:\n",
    "        trajectories = trajectory\n",
    "        observations = observation\n",
    "    else:\n",
    "        trajectories = np.vstack((trajectories, trajectory))\n",
    "        observations = np.vstack((observations, observation))"
   ]
  },
  {
   "cell_type": "code",
   "execution_count": 12,
   "metadata": {},
   "outputs": [],
   "source": [
    "def extract_od(stay, num_node):\n",
    "    #row : origin, column :destination\n",
    "    stay = list(stay)\n",
    "    num_row = len(stay)\n",
    "    result = np.zeros((num_node, num_node))\n",
    "    for i in range(num_row):\n",
    "        person = stay[i]\n",
    "        person = person.astype(int)\n",
    "        for j in range(len(person) - 1):\n",
    "            if person[j] != person[j + 1]:\n",
    "                result[person[j], person[j + 1]] = result[person[j], person[j + 1]] + 1\n",
    "        result[person[j + 1], person[0]] = result[person[j + 1], person[0]] + 1\n",
    "    \n",
    "    return result"
   ]
  },
  {
   "cell_type": "code",
   "execution_count": 13,
   "metadata": {},
   "outputs": [],
   "source": [
    "def organize_stay_time(stay, stay_time, num_node):\n",
    "    stay = list(stay)\n",
    "    result = []\n",
    "    num_row = len(stay)\n",
    "    for i in range(num_node):\n",
    "        result.append([])\n",
    "    for i in range(num_row):\n",
    "        person_stay = stay[i].astype(int)\n",
    "        person_stay_time = stay_time[i].astype(int)\n",
    "        for j in range(len(person_stay)):\n",
    "            result[person_stay[j]].append(person_stay_time[j])\n",
    "        result[person_stay[0]].append(person_stay_time[j + 1])\n",
    "    return result\n",
    "        "
   ]
  },
  {
   "cell_type": "code",
   "execution_count": 14,
   "metadata": {},
   "outputs": [],
   "source": [
    "time_stay = organize_stay_time(np.transpose(stays), stay_times, num_node)"
   ]
  },
  {
   "cell_type": "code",
   "execution_count": 15,
   "metadata": {},
   "outputs": [],
   "source": [
    "stay_node = extract_od(np.transpose(stays), num_node)"
   ]
  },
  {
   "cell_type": "code",
   "execution_count": 18,
   "metadata": {},
   "outputs": [],
   "source": [
    "np.save('trajectories_train_complex.npy', trajectories)\n",
    "np.save('observations_train_complex.npy', observations)"
   ]
  },
  {
   "cell_type": "code",
   "execution_count": 16,
   "metadata": {},
   "outputs": [],
   "source": [
    "np.save('trajectories_test_complex.npy', trajectories)\n",
    "np.save('observations_test_complex.npy', observations)\n",
    "np.save('od_test_complex.npy', stay_node)\n",
    "np.save('stay_time_complex.npy', stay_times)\n",
    "np.save('stay_region_complex.npy', np.transpose(stays))"
   ]
  },
  {
   "cell_type": "markdown",
   "metadata": {},
   "source": [
    "multi_data"
   ]
  },
  {
   "cell_type": "code",
   "execution_count": 19,
   "metadata": {},
   "outputs": [],
   "source": [
    "def generate_multi_observed(num_node, trajectory, population, percentage):\n",
    "    #generate oscillation\n",
    "    choice_set = [x for x in range(num_node)]\n",
    "    \n",
    "    result = []\n",
    "    for i in range(len(trajectory)):\n",
    "        probability = generate_observation_probability(num_node, population[:, i])\n",
    "        choice_prob = probability[int(trajectory[i]), :]\n",
    "        \n",
    "        boolean = np.random.rand(1)\n",
    "        if boolean < percentage:\n",
    "            temp_num = np.random.randint(2, 6)\n",
    "            result.append(np.random.choice(choice_set, temp_num, p = choice_prob))\n",
    "        else:\n",
    "            result.append(np.random.choice(choice_set, 1, p = choice_prob))\n",
    "        \n",
    "    return result"
   ]
  },
  {
   "cell_type": "code",
   "execution_count": 20,
   "metadata": {},
   "outputs": [],
   "source": [
    "# case for 10% oscillation\n",
    "num_people = 50\n",
    "percentage = 0.1\n",
    "observations = []\n",
    "stay_times = []\n",
    "for i in range(num_people):\n",
    "    trajectory, stay, stay_time = generate_trajectory(time_length, num_node, num_stay)\n",
    "    observation = generate_multi_observed(num_node, trajectory, population, percentage)\n",
    "    observations.append(observation)\n",
    "    stay_times.append(stay_time)\n",
    "    if i == 0:\n",
    "        trajectories = trajectory\n",
    "        stays = stay\n",
    "    else:\n",
    "        trajectories = np.vstack((trajectories, trajectory))\n",
    "        stays = np.hstack((stays, stay))"
   ]
  },
  {
   "cell_type": "code",
   "execution_count": 21,
   "metadata": {},
   "outputs": [],
   "source": [
    "time_stay = organize_stay_time(np.transpose(stays), stay_times, num_node)\n",
    "stay_node = extract_od(np.transpose(stays), num_node)\n",
    "np.save('trajectories_test_multi1.npy', trajectories)\n",
    "np.save('observations_test_multi1.npy', observations)\n",
    "np.save('od_test_multi1.npy', stay_node)\n",
    "np.save('stay_time_multi1.npy', stay_times)\n",
    "np.save('stay_region_multi1.npy', np.transpose(stays))"
   ]
  },
  {
   "cell_type": "code",
   "execution_count": 22,
   "metadata": {},
   "outputs": [],
   "source": [
    "#case for 30% oscillation\n",
    "num_people = 50\n",
    "percentage = 0.3\n",
    "observations = []\n",
    "stay_times = []\n",
    "for i in range(num_people):\n",
    "    trajectory, stay, stay_time = generate_trajectory(time_length, num_node, num_stay)\n",
    "    observation = generate_multi_observed(num_node, trajectory, population, percentage)\n",
    "    observations.append(observation)\n",
    "    stay_times.append(stay_time)\n",
    "    if i == 0:\n",
    "        trajectories = trajectory\n",
    "        stays = stay\n",
    "    else:\n",
    "        trajectories = np.vstack((trajectories, trajectory))\n",
    "        stays = np.hstack((stays, stay))"
   ]
  },
  {
   "cell_type": "code",
   "execution_count": 23,
   "metadata": {},
   "outputs": [],
   "source": [
    "time_stay = organize_stay_time(np.transpose(stays), stay_times, num_node)\n",
    "stay_node = extract_od(np.transpose(stays), num_node)\n",
    "np.save('trajectories_test_multi2.npy', trajectories)\n",
    "np.save('observations_test_multi2.npy', observations)\n",
    "np.save('od_test_multi2.npy', stay_node)\n",
    "np.save('stay_time_multi2.npy', stay_times)\n",
    "np.save('stay_region_multi2.npy', np.transpose(stays))"
   ]
  },
  {
   "cell_type": "code",
   "execution_count": 24,
   "metadata": {},
   "outputs": [],
   "source": [
    "#case for 50% oscillation\n",
    "num_people = 50\n",
    "percentage = 0.5\n",
    "observations = []\n",
    "stay_times = []\n",
    "for i in range(num_people):\n",
    "    trajectory, stay, stay_time = generate_trajectory(time_length, num_node, num_stay)\n",
    "    observation = generate_multi_observed(num_node, trajectory, population, percentage)\n",
    "    observations.append(observation)\n",
    "    stay_times.append(stay_time)\n",
    "    if i == 0:\n",
    "        trajectories = trajectory\n",
    "        stays = stay\n",
    "    else:\n",
    "        trajectories = np.vstack((trajectories, trajectory))\n",
    "        stays = np.hstack((stays, stay))"
   ]
  },
  {
   "cell_type": "code",
   "execution_count": 25,
   "metadata": {},
   "outputs": [],
   "source": [
    "time_stay = organize_stay_time(np.transpose(stays), stay_times, num_node)\n",
    "stay_node = extract_od(np.transpose(stays), num_node)\n",
    "np.save('trajectories_test_multi3.npy', trajectories)\n",
    "np.save('observations_test_multi3.npy', observations)\n",
    "np.save('od_test_multi3.npy', stay_node)\n",
    "np.save('stay_time_multi3.npy', stay_times)\n",
    "np.save('stay_region_multi3.npy', np.transpose(stays))"
   ]
  },
  {
   "cell_type": "code",
   "execution_count": 26,
   "metadata": {},
   "outputs": [],
   "source": [
    "np.save('population.npy', population)"
   ]
  },
  {
   "cell_type": "code",
   "execution_count": null,
   "metadata": {},
   "outputs": [],
   "source": []
  }
 ],
 "metadata": {
  "kernelspec": {
   "display_name": "Python 3",
   "language": "python",
   "name": "python3"
  },
  "language_info": {
   "codemirror_mode": {
    "name": "ipython",
    "version": 3
   },
   "file_extension": ".py",
   "mimetype": "text/x-python",
   "name": "python",
   "nbconvert_exporter": "python",
   "pygments_lexer": "ipython3",
   "version": "3.6.4"
  }
 },
 "nbformat": 4,
 "nbformat_minor": 2
}
