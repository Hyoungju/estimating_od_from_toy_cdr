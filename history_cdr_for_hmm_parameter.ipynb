{
 "cells": [
  {
   "cell_type": "code",
   "execution_count": 1,
   "metadata": {},
   "outputs": [],
   "source": [
    "import numpy as np\n",
    "import matplotlib.pyplot as plt"
   ]
  },
  {
   "cell_type": "code",
   "execution_count": 2,
   "metadata": {},
   "outputs": [],
   "source": [
    "def generate_node(num_node, node_length = 1):\n",
    "    # assume map is grid and distance between adjacent node is 1\n",
    "    num_side = int(np.sqrt(num_node))\n",
    "    nodes = np.zeros((num_node, 2))\n",
    "    for i in range(num_side):\n",
    "        for j in range(num_side):\n",
    "            index = i + j * num_side\n",
    "            nodes[index, 0] = i * node_length + 1\n",
    "            nodes[index, 1] = j * node_length + 1\n",
    "    return nodes"
   ]
  },
  {
   "cell_type": "code",
   "execution_count": 3,
   "metadata": {},
   "outputs": [],
   "source": [
    "def generate_stay(num_stay, num_node):\n",
    "    # generate stay location not to be adjacent to each other\n",
    "    adjacent = adjacent_node(num_node)\n",
    "    result = np.zeros((num_stay))\n",
    "    choice_set = [x for x in range(num_node)]\n",
    "    for i in range(num_stay):\n",
    "        if i == 0:\n",
    "            result[i] = np.random.choice(choice_set, 1)\n",
    "        else:\n",
    "            choice_set = list(set(choice_set) - set(adjacent[int(result[i - 1])]))\n",
    "            result[i] = np.random.choice(choice_set, 1)\n",
    "    return result\n",
    "            "
   ]
  },
  {
   "cell_type": "code",
   "execution_count": 4,
   "metadata": {},
   "outputs": [],
   "source": [
    "def find_nearest(point, num_node):\n",
    "    #find the nearest point\n",
    "    nodes = generate_node(num_node)\n",
    "    distance = np.zeros(num_node)\n",
    "    for i in range(num_node):\n",
    "        distance[i] = np.sqrt((point[0] - nodes[i, 0])**2 + (point[1] - nodes[i, 1])**2)\n",
    "    index = np.argmin(distance)\n",
    "    return index"
   ]
  },
  {
   "cell_type": "code",
   "execution_count": 5,
   "metadata": {},
   "outputs": [],
   "source": [
    "def adjacent_node(num_node):\n",
    "    # find adjacent node which can be approached within 1 time step ( assume everyone velocity is constant)\n",
    "    nodes = generate_node(num_node)\n",
    "    threshold = np.sqrt(3)\n",
    "    result = [];\n",
    "    for i in range(num_node):\n",
    "        distance = np.zeros((num_node, 1))\n",
    "        for j in range(num_node):\n",
    "            distance[j, 0] = np.sqrt((nodes[i, 0] - nodes[j, 0])**2 + (nodes[i, 1] - nodes[j, 1])**2)\n",
    "        index = np.where(distance <= threshold)[0]\n",
    "        result.append(index)\n",
    "    return result"
   ]
  },
  {
   "cell_type": "code",
   "execution_count": 6,
   "metadata": {},
   "outputs": [],
   "source": [
    "def generate_route_heu(origin, destination, num_node):\n",
    "    # given origin and destination generate route according to the distance to destination\n",
    "    origin = int(origin)\n",
    "    destination = int(destination)\n",
    "    nodes = generate_node(num_node)\n",
    "    adjacent = adjacent_node(num_node)\n",
    "    route = []\n",
    "    current = origin\n",
    "    route.append(current)\n",
    "    while current != destination:\n",
    "        if len(route) == 1:\n",
    "            possible_set = list(adjacent[current])\n",
    "        else:\n",
    "            possible_set = list(adjacent[current])\n",
    "            possible_set = list(set(possible_set) - set(route[-2:]))\n",
    "        \n",
    "        probability = []\n",
    "        for i in range(len(possible_set)):\n",
    "            d = np.sqrt((nodes[possible_set[i], 0] - nodes[destination, 0])**2 + (nodes[possible_set[i], 1] - nodes[destination, 1])**2)\n",
    "            probability.append(np.exp(- d **2))\n",
    "        probability = probability/sum(probability)\n",
    "        next_step = int(np.random.choice(possible_set, 1, p = probability))\n",
    "        route.append(next_step)\n",
    "        current = next_step\n",
    "    return route\n",
    "            "
   ]
  },
  {
   "cell_type": "code",
   "execution_count": 7,
   "metadata": {},
   "outputs": [],
   "source": [
    "def generate_trajectory_heu(time_length, num_node, stays):\n",
    "    #generate the trajectory from the given number of stay\n",
    "    nodes = generate_node(num_node)\n",
    "    adjacent = adjacent_node(num_node)\n",
    "    num_stay = len(stays)\n",
    "    stays = np.insert(stays, len(stays), stays[0])\n",
    "    \n",
    "    #with the similar movement pattern 2 exact long locations, 2 short locations with small and medium deviantion, one random location\n",
    "    \n",
    "    trajectory = np.zeros(time_length)\n",
    "    total_route = []\n",
    "    route_time = 0\n",
    "    for i in range(num_stay):\n",
    "        route = generate_route_heu(stays[i], stays[i + 1], num_node)\n",
    "        \n",
    "        route_time = route_time + len(route)\n",
    "        total_route.append(route)\n",
    "    left_time = time_length - route_time\n",
    "    \n",
    "    stay_time = np.zeros(num_stay + 1)\n",
    "    stay_time[0] = int(np.floor(left_time * 0.4))\n",
    "    stay_time[1] = int(np.floor(left_time * 0.4))\n",
    "    left_time = left_time - stay_time[0] - stay_time[1]\n",
    "    probability = np.random.uniform(low = num_stay/(left_time - 1), high = 1, size = num_stay - 1)\n",
    "    probability = probability / np.sum(probability)\n",
    "    \n",
    "    for i in range(2, num_stay + 1):\n",
    "        stay_time[i] = int(np.floor(left_time * probability[i - 2]))\n",
    "    remain_time = left_time - np.sum(stay_time[2:])\n",
    "    stay_time[0] = stay_time[0] + remain_time\n",
    "    \n",
    "    index = 0\n",
    "    for i in range(num_stay):\n",
    "        trajectory[index : int(stay_time[i]) + index] = stays[i] * np.ones(int(stay_time[i]))\n",
    "        index = index + int(stay_time[i])\n",
    "        route = total_route[i]\n",
    "        trajectory[index : index + len(route)] = route\n",
    "        index = index + len(route)\n",
    "    trajectory[index : int(stay_time[i + 1]) + index] = stays[0] * np.ones(int(stay_time[i + 1]) )\n",
    "    return trajectory, stays, stay_time"
   ]
  },
  {
   "cell_type": "code",
   "execution_count": 8,
   "metadata": {},
   "outputs": [],
   "source": [
    "def generate_observation_probability(num_node, population):\n",
    "    # generate observation probability (relationship between observed data and actual data)\n",
    "    # row is the actual state, column is the observed data\n",
    "    nodes = generate_node(num_node)\n",
    "    result = np.zeros((num_node, num_node))\n",
    "    coeff_min = 1\n",
    "    coeff_max = 5\n",
    "    max_population = np.max(population)\n",
    "    min_population = np.min(population)\n",
    "    population = (population - min_population) / (max_population - min_population)\n",
    "    \n",
    "    for i in range(num_node):\n",
    "        for j in range(num_node):\n",
    "            distance = np.sqrt((nodes[i, 0] - nodes[j, 0])**2 + (nodes[i, 1] - nodes[j, 1])**2)\n",
    "            coeff = - (coeff_max - coeff_min) * population[i] + coeff_max\n",
    "            result[i, j] = np.exp(- coeff * distance ** 2)\n",
    "        result[i, :] = result[i, :]/ np.sum(result[i, :])\n",
    "    return result"
   ]
  },
  {
   "cell_type": "code",
   "execution_count": 9,
   "metadata": {},
   "outputs": [],
   "source": [
    "def generate_observed(num_node, trajectory, population):\n",
    "    #generate CDR data \n",
    "    choice_set = [x for x in range(num_node)]\n",
    "    \n",
    "    result = np.zeros(len(trajectory))\n",
    "    for i in range(len(trajectory)):\n",
    "        probability = generate_observation_probability(num_node, population[:, i])\n",
    "        choice_prob = probability[int(trajectory[i]), :]\n",
    "        result[i] =  np.random.choice(choice_set, 1, p = choice_prob)\n",
    "    return result"
   ]
  },
  {
   "cell_type": "code",
   "execution_count": 10,
   "metadata": {},
   "outputs": [],
   "source": [
    "def missing_observed(observations_test, percentage):\n",
    "    #generate CDR with irregularity\n",
    "    num_people = len(observations_test)\n",
    "    time_length = len(observations_test[0])\n",
    "    num_missing = int(percentage * time_length)\n",
    "    \n",
    "    result = []\n",
    "    for i in range(num_people):\n",
    "        result.append([])\n",
    "        missing_point = np.random.randint(0, time_length - 1, (1, num_missing))\n",
    "        for j in range(time_length):\n",
    "            if np.isin(j, missing_point):\n",
    "                result[i].append([])\n",
    "            else:\n",
    "                result[i].append(observations_test[i][j])\n",
    "    return result"
   ]
  },
  {
   "cell_type": "code",
   "execution_count": 11,
   "metadata": {},
   "outputs": [],
   "source": [
    "def generate_multi_observed(num_node, trajectory, population, percentage):\n",
    "    #generate CDR with oscillation\n",
    "    choice_set = [x for x in range(num_node)]\n",
    "    \n",
    "    result = []\n",
    "    for i in range(len(trajectory)):\n",
    "        probability = generate_observation_probability(num_node, population[:, i])\n",
    "        choice_prob = probability[int(trajectory[i]), :]\n",
    "        \n",
    "        boolean = np.random.rand(1)\n",
    "        if boolean < percentage:\n",
    "            temp_num = np.random.randint(2, 6)\n",
    "            result.append(np.random.choice(choice_set, temp_num, p = choice_prob))\n",
    "        else:\n",
    "            result.append(np.random.choice(choice_set, 1, p = choice_prob))\n",
    "        \n",
    "    return result"
   ]
  },
  {
   "cell_type": "code",
   "execution_count": 12,
   "metadata": {},
   "outputs": [],
   "source": [
    "def extract_current(obs, num_node):\n",
    "    #figure out the most likely current state\n",
    "    if len(obs) == 0:\n",
    "        return np.nan\n",
    "    count = np.bincount(obs)\n",
    "    index = np.where(count == np.max(count))\n",
    "    if len(index[0]) == 1:\n",
    "        result = np.bincount(obs).argmax()\n",
    "    else:\n",
    "        nodes = generate_node(num_node)\n",
    "        point = np.zeros(2)\n",
    "        for i in range(len(obs)):\n",
    "            point[0] = point[0] + nodes[obs[i], 0]\n",
    "            point[1] = point[1] + nodes[obs[i], 1]\n",
    "        point = point/len(obs)\n",
    "        \n",
    "        result = find_nearest(point, num_node)\n",
    "    return result"
   ]
  },
  {
   "cell_type": "code",
   "execution_count": 13,
   "metadata": {},
   "outputs": [],
   "source": [
    "def average_observed(total_o, num_node):\n",
    "    #averaging history to get reliable trajectory pattern\n",
    "    num_history = len(total_o)\n",
    "    time_length = len(total_o[0])\n",
    "    result = np.zeros(time_length)\n",
    "    for i in range(time_length):\n",
    "        temp_set = []\n",
    "        for j in range(num_history):\n",
    "            ji_history = total_o[j][i]\n",
    "            if len(ji_history) > 0:\n",
    "                for k in range(len(ji_history)):\n",
    "                    temp_set.append(ji_history[k])\n",
    "        result[i] = extract_current(temp_set, num_node)\n",
    "    return result"
   ]
  },
  {
   "cell_type": "code",
   "execution_count": 14,
   "metadata": {},
   "outputs": [],
   "source": [
    "def find_observation_complex(total_o, trajectories, num_node):\n",
    "    #calculate observation probability\n",
    "    trajectories = trajectories.astype(int)\n",
    "    num_people = len(total_o)\n",
    "    num_history = len(total_o[0])\n",
    "    time_length = trajectories.shape[1]\n",
    "    result = np.zeros((num_node, num_node))\n",
    "    for i in range(num_people):\n",
    "        for j in range(time_length):\n",
    "            trajectory_node = int(trajectories[i, j])\n",
    "            if trajectory_node >= 0:\n",
    "                for k in range(num_history):\n",
    "                    temp_history = total_o[i][k][j]\n",
    "                    if len(temp_history) > 0:\n",
    "                        for l in range(len(temp_history)):\n",
    "                            observation_node = int(temp_history[l])\n",
    "                            result[trajectory_node, observation_node] = result[trajectory_node, observation_node] + 1\n",
    "    for i in range(num_node):\n",
    "        result[i, :] = result[i, :] / np.sum(result[i, :])    \n",
    "    \n",
    "    return result"
   ]
  },
  {
   "cell_type": "code",
   "execution_count": 15,
   "metadata": {},
   "outputs": [],
   "source": [
    "def find_transition_complex(trajectories, num_node):\n",
    "    # row is the current state, column is the next data\n",
    "    trajectories = trajectories.astype(int)\n",
    "    num_row = trajectories.shape[0]\n",
    "    num_column = trajectories.shape[1]\n",
    "    result = np.zeros((num_node, num_node))\n",
    "    for i in range(num_row):\n",
    "        for j in range(num_column - 1):\n",
    "            current_node = int(trajectories[i, j])\n",
    "            next_node = int(trajectories[i, j + 1])\n",
    "            if current_node >=0 and next_node >= 0:\n",
    "                result[current_node, next_node] = result[current_node, next_node] + 1\n",
    "    for i in range(num_node):\n",
    "        result[i, :] = result[i, :] / np.sum(result[i, :])\n",
    "    \n",
    "    return result"
   ]
  },
  {
   "cell_type": "code",
   "execution_count": 16,
   "metadata": {},
   "outputs": [],
   "source": [
    "def history_noise(num_node):\n",
    "    # find adjacent node which can be approached within 1 time step ( assume everyone velocity is constant)\n",
    "    nodes = generate_node(num_node)\n",
    "    threshold = 2.5\n",
    "    result = [];\n",
    "    for i in range(num_node):\n",
    "        distance = np.zeros((num_node, 1))\n",
    "        for j in range(num_node):\n",
    "            distance[j, 0] = np.sqrt((nodes[i, 0] - nodes[j, 0])**2 + (nodes[i, 1] - nodes[j, 1])**2)\n",
    "        index = np.where(distance <= threshold)[0]\n",
    "        result.append(index)\n",
    "    return result"
   ]
  },
  {
   "cell_type": "code",
   "execution_count": 17,
   "metadata": {},
   "outputs": [],
   "source": [
    "num_node = 64\n",
    "num_stay = 5\n",
    "num_people = 500\n",
    "time_length = 100\n",
    "population = np.load('population.npy')"
   ]
  },
  {
   "cell_type": "code",
   "execution_count": 42,
   "metadata": {},
   "outputs": [],
   "source": [
    "#generate history cdr with 30% irregularity and 30% oscillation\n",
    "total_o = []\n",
    "for k in range(num_people):\n",
    "    stay_k = generate_stay(num_stay, num_node)\n",
    "    stay_k = stay_k.astype(int)\n",
    "    \n",
    "    num_history = 10\n",
    "    history_stay_times = []\n",
    "    history_s = []\n",
    "    history_o = []\n",
    "    adj_node = adjacent_node(num_node)\n",
    "    for i in range(num_history):\n",
    "        temp_stays = np.zeros(stay_k.shape)\n",
    "        for j in range(num_stay):\n",
    "            if j < 2:\n",
    "                temp_stays[j] = stay_k[j]\n",
    "            else:\n",
    "                possible_node = list(adj_node[stay_k[j]])\n",
    "                temp_stays[j] = np.random.choice(possible_node, 1)\n",
    "        temp_t, temp_s, temp_st = generate_trajectory_heu(time_length, num_node, temp_stays)\n",
    "        temp_o = generate_multi_observed(num_node, temp_t, population, 0.3)\n",
    "        \n",
    "        history_stay_times.append(temp_st)\n",
    "        history_s.append(temp_s)\n",
    "        history_o.append(temp_o)\n",
    "        \n",
    "    history_o_miss = missing_observed(history_o, 0.3)\n",
    "    predict_trajectory = average_observed(history_o_miss, num_node)\n",
    "    \n",
    "    total_o.append(history_o_miss)\n",
    "    if k == 0:\n",
    "        total_trajectory = predict_trajectory\n",
    "    else:\n",
    "        total_trajectory = np.vstack((total_trajectory, predict_trajectory))\n",
    "    "
   ]
  },
  {
   "cell_type": "code",
   "execution_count": 43,
   "metadata": {},
   "outputs": [],
   "source": [
    "A = find_transition_complex(total_trajectory, num_node)"
   ]
  },
  {
   "cell_type": "code",
   "execution_count": 44,
   "metadata": {},
   "outputs": [],
   "source": [
    "C  = find_observation_complex(total_o, total_trajectory, num_node)"
   ]
  },
  {
   "cell_type": "code",
   "execution_count": 45,
   "metadata": {},
   "outputs": [],
   "source": [
    "np.save('A2.npy', A)\n",
    "np.save('C2.npy', C)"
   ]
  },
  {
   "cell_type": "code",
   "execution_count": 56,
   "metadata": {},
   "outputs": [],
   "source": [
    "#generate history cdr with 50% irregularity and 10% oscillation\n",
    "total_o = []\n",
    "for k in range(num_people):\n",
    "    stay_k = generate_stay(num_stay, num_node)\n",
    "    stay_k = stay_k.astype(int)\n",
    "    \n",
    "    num_history = 10\n",
    "    history_stay_times = []\n",
    "    history_s = []\n",
    "    history_o = []\n",
    "    adj_node = adjacent_node(num_node)\n",
    "    for i in range(num_history):\n",
    "        temp_stays = np.zeros(stay_k.shape)\n",
    "        for j in range(num_stay):\n",
    "            if j < 2:\n",
    "                temp_stays[j] = stay_k[j]\n",
    "            else:\n",
    "                possible_node = list(adj_node[stay_k[j]])\n",
    "                temp_stays[j] = np.random.choice(possible_node, 1)\n",
    "        temp_t, temp_s, temp_st = generate_trajectory_heu(time_length, num_node, temp_stays)\n",
    "        temp_o = generate_multi_observed(num_node, temp_t, population, 0.1)\n",
    "        \n",
    "        history_stay_times.append(temp_st)\n",
    "        history_s.append(temp_s)\n",
    "        history_o.append(temp_o)\n",
    "        \n",
    "    history_o_miss = missing_observed(history_o, 0.5)\n",
    "    predict_trajectory = average_observed(history_o_miss, num_node)\n",
    "    \n",
    "    total_o.append(history_o_miss)\n",
    "    if k == 0:\n",
    "        total_trajectory = predict_trajectory\n",
    "    else:\n",
    "        total_trajectory = np.vstack((total_trajectory, predict_trajectory))\n",
    "    "
   ]
  },
  {
   "cell_type": "code",
   "execution_count": 60,
   "metadata": {},
   "outputs": [],
   "source": [
    "A = find_transition_complex(total_trajectory, num_node)\n",
    "C  = find_observation_complex(total_o, total_trajectory, num_node)\n",
    "np.save('A1.npy', A)\n",
    "np.save('C1.npy', C)"
   ]
  },
  {
   "cell_type": "code",
   "execution_count": 54,
   "metadata": {},
   "outputs": [],
   "source": [
    "#generate history cdr with 10% irregularity and 50% oscillation\n",
    "total_o = []\n",
    "for k in range(num_people):\n",
    "    stay_k = generate_stay(num_stay, num_node)\n",
    "    stay_k = stay_k.astype(int)\n",
    "    \n",
    "    num_history = 10\n",
    "    history_stay_times = []\n",
    "    history_s = []\n",
    "    history_o = []\n",
    "    adj_node = adjacent_node(num_node)\n",
    "    for i in range(num_history):\n",
    "        temp_stays = np.zeros(stay_k.shape)\n",
    "        for j in range(num_stay):\n",
    "            if j < 2:\n",
    "                temp_stays[j] = stay_k[j]\n",
    "            else:\n",
    "                possible_node = list(adj_node[stay_k[j]])\n",
    "                temp_stays[j] = np.random.choice(possible_node, 1)\n",
    "        temp_t, temp_s, temp_st = generate_trajectory_heu(time_length, num_node, temp_stays)\n",
    "        temp_o = generate_multi_observed(num_node, temp_t, population, 0.5)\n",
    "        \n",
    "        history_stay_times.append(temp_st)\n",
    "        history_s.append(temp_s)\n",
    "        history_o.append(temp_o)\n",
    "        \n",
    "    history_o_miss = missing_observed(history_o, 0.1)\n",
    "    predict_trajectory = average_observed(history_o_miss, num_node)\n",
    "    \n",
    "    total_o.append(history_o_miss)\n",
    "    if k == 0:\n",
    "        total_trajectory = predict_trajectory\n",
    "    else:\n",
    "        total_trajectory = np.vstack((total_trajectory, predict_trajectory))\n",
    "    "
   ]
  },
  {
   "cell_type": "code",
   "execution_count": 55,
   "metadata": {},
   "outputs": [],
   "source": [
    "A = find_transition_complex(total_trajectory, num_node)\n",
    "C  = find_observation_complex(total_o, total_trajectory, num_node)\n",
    "np.save('A3.npy', A)\n",
    "np.save('C3.npy', C)"
   ]
  },
  {
   "cell_type": "code",
   "execution_count": null,
   "metadata": {},
   "outputs": [],
   "source": []
  },
  {
   "cell_type": "code",
   "execution_count": 54,
   "metadata": {},
   "outputs": [
    {
     "data": {
      "image/png": "[encoded data removed]",
      "text/plain": [
       "<matplotlib.figure.Figure at 0x22c3354a7f0>"
      ]
     },
     "metadata": {},
     "output_type": "display_data"
    }
   ],
   "source": [
    "#example figure for history CDR idea\n",
    "x = [i for i in range(100)]\n",
    "fig1 = plt.figure(figsize = (12, 8))\n",
    "for i in range(100):\n",
    "    for j in range(10):\n",
    "        if len(total_o[0][j][i]) > 0:\n",
    "            if i == j == 0:\n",
    "                plt.plot(x[i], total_o[0][j][i][0], 'r.', label = 'history CDR')\n",
    "            else:\n",
    "                plt.plot(x[i], total_o[0][j][i][0], 'r.')\n",
    "plt.plot(x, total_trajectory, linewidth=2, label = 'estimated')\n",
    "plt.xlabel('Time')\n",
    "plt.ylabel('Location')\n",
    "plt.legend()\n",
    "plt.show()\n",
    "fig1.savefig('history.jpg')"
   ]
  },
  {
   "cell_type": "code",
   "execution_count": 55,
   "metadata": {},
   "outputs": [
    {
     "data": {
      "image/png": "[encoded data removed]",
      "text/plain": [
       "<matplotlib.figure.Figure at 0x22c3560c080>"
      ]
     },
     "metadata": {},
     "output_type": "display_data"
    }
   ],
   "source": [
    "#example figure for actual CDR idea\n",
    "fig2 = plt.figure(figsize = (12, 8))\n",
    "for i in range(100):\n",
    "    if len(temp_o_miss[0][i]) > 0:\n",
    "        if i == 0:\n",
    "            plt.plot(x[i], temp_o_miss[0][i][0], 'r.', label = 'CDR')\n",
    "        else:\n",
    "            plt.plot(x[i], temp_o_miss[0][i][0], 'r.')\n",
    "plt.plot(x, temp_t, linewidth=2, label = 'ground truth')\n",
    "plt.xlabel('Time')\n",
    "plt.ylabel('Location')\n",
    "plt.legend()\n",
    "plt.show()\n",
    "fig2.savefig('groundtruth.jpg')"
   ]
  },
  {
   "cell_type": "code",
   "execution_count": null,
   "metadata": {},
   "outputs": [],
   "source": []
  }
 ],
 "metadata": {
  "kernelspec": {
   "display_name": "Python 3",
   "language": "python",
   "name": "python3"
  },
  "language_info": {
   "codemirror_mode": {
    "name": "ipython",
    "version": 3
   },
   "file_extension": ".py",
   "mimetype": "text/x-python",
   "name": "python",
   "nbconvert_exporter": "python",
   "pygments_lexer": "ipython3",
   "version": "3.6.4"
  }
 },
 "nbformat": 4,
 "nbformat_minor": 2
}
